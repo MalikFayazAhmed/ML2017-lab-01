{
 "cells": [
  {
   "cell_type": "code",
   "execution_count": 1,
   "metadata": {},
   "outputs": [
    {
     "name": "stdout",
     "output_type": "stream",
     "text": [
      "________________________________________________________________________________\n",
      "[Memory] Calling __main__-C%3A-Users-HP-Desktop-New folder-ML2017-lab-01-__ipython-input__.get_data...\n",
      "get_data()\n",
      "_________________________________________________________get_data - 0.0s, 0.0min\n"
     ]
    },
    {
     "data": {
      "image/png": "[encoded data removed]",
      "text/plain": [
       "<matplotlib.figure.Figure at 0x25157e65470>"
      ]
     },
     "metadata": {},
     "output_type": "display_data"
    }
   ],
   "source": [
    "#Code generated by Malik Fayaz Ahmed\n",
    "#International Student Pakistan\n",
    "#Student ID 201722800095\n",
    "#South China University of Technology\n",
    "\n",
    "import matplotlib.pyplot as plt\n",
    "from sklearn.externals.joblib import Memory\n",
    "\n",
    "\n",
    "import numpy\n",
    "from numpy import random\n",
    "\n",
    "# Load the experiment data\n",
    "mem = Memory(\"./mycache\")\n",
    "\n",
    "from sklearn.datasets import load_svmlight_file\n",
    "from sklearn.model_selection import train_test_split\n",
    "@mem.cache\n",
    "def get_data():\n",
    "    data = load_svmlight_file(r'''C:\\Users\\HP\\Desktop\\australian_scale''',n_features=14)\n",
    "    return data\n",
    "\n",
    "\n",
    "def svm(W, xtrain, ytrain, xtest, ytest, reg):\n",
    "\n",
    "  gW = numpy.zeros(W.shape) \n",
    "  number_of_classes = W.shape[1]\n",
    "  trainning_loss_myExpe = 0\n",
    "  Scores_Values_MyExperiment2 = xtrain.dot(W)  \n",
    "  Experiment2_num_trainning = xtrain.shape[0]\n",
    "  Scores_Values_MyExperiment2_correct = Scores_Values_MyExperiment2[numpy.arange(Experiment2_num_trainning), ytrain]\n",
    "  Scores_Values_MyExperiment2_correct = numpy.reshape(Scores_Values_MyExperiment2_correct, (Experiment2_num_trainning, 1))\n",
    "  margins_train = Scores_Values_MyExperiment2 - Scores_Values_MyExperiment2_correct + 1.0 \n",
    "  margins_train[numpy.arange(Experiment2_num_trainning), ytrain] = 0.0 \n",
    "  margins_train[margins_train <= 0] = 0.0\n",
    "  trainning_loss_myExpe += numpy.sum(margins_train) / Experiment2_num_trainning\n",
    "  trainning_loss_myExpe += 0.5 * reg * numpy.sum(W * W) \n",
    "  margins_train[margins_train > 0] = 1.0                       \n",
    "  row_sum = numpy.sum(margins_train, axis=1)                 \n",
    "  margins_train[numpy.arange(Experiment2_num_trainning), ytrain] = -row_sum        \n",
    "  gW += numpy.dot(xtrain.T, margins_train)/Experiment2_num_trainning + reg * W    \n",
    "  test_loss = 0\n",
    "  scores_test = xtest.dot(W) \n",
    "  num_test = xtest.shape[0]\n",
    "  scores_test_correct = scores_test[numpy.arange(num_test), ytest] \n",
    "  scores_test_correct = numpy.reshape(scores_test_correct, (num_test, 1)) \n",
    "  margins_test = scores_test - scores_test_correct + 1.0 \n",
    "  margins_test[numpy.arange(num_test), ytest] = 0.0 \n",
    "  margins_test[margins_test <= 0] = 0.0\n",
    "  test_loss += numpy.sum(margins_test) / num_test\n",
    "  test_loss += 0.5 * reg * numpy.sum(W * W)\n",
    "\n",
    "  return trainning_loss_myExpe, test_loss, gW\n",
    "\n",
    "\n",
    "\n",
    "data = get_data()\n",
    "X=data[0].toarray()\n",
    "Y=data[1]\n",
    "Y=Y.reshape(len(Y),order='C') \n",
    "Y=Y.astype(numpy.int) \n",
    "\n",
    "x_train, x_test, y_train, y_test = train_test_split(X, Y, test_size=0.4, random_state=42)\n",
    "N,D=x_train.shape \n",
    "C=len(list(set(y_train))) \n",
    "\n",
    "W = random.random(size=(D, C)) \n",
    "maxIterations=400\n",
    "th = 0 \n",
    "eta = 0.01 \n",
    "L_train=[];\n",
    "L_test=[];\n",
    "\n",
    "\n",
    " \n",
    "for t in range(maxIterations):\n",
    "    y_train_pred = numpy.dot(x_train,W)\n",
    "    y_train_pred[y_train_pred> th] = 1\n",
    "    y_train_pred[y_train_pred<=th] = 0\n",
    "    \n",
    "    y_test_pred = numpy.dot(x_test,W)\n",
    "    y_test_pred[y_test_pred> th] = 1\n",
    "    y_test_pred[y_test_pred<=th] = 0   \n",
    "    \n",
    "    trainning_loss_myExpe, test_loss, grad_W= svm(W, x_train, y_train,  x_test, y_test, reg= 0.1)\n",
    "    \n",
    "    L_train.append (trainning_loss_myExpe)\n",
    "    L_test.append (test_loss)\n",
    "\n",
    "    W -= eta * grad_W\n",
    "\n",
    "\n",
    "plt.plot(L_train,'r',label='train loss')\n",
    "plt.plot(L_test,'b',label='test loss')\n",
    "plt.title('Loss Curve') # give plot a title\n",
    "plt.legend()\n",
    "plt.show()\n"
   ]
  },
  {
   "cell_type": "code",
   "execution_count": null,
   "metadata": {
    "collapsed": true
   },
   "outputs": [],
   "source": []
  }
 ],
 "metadata": {
  "kernelspec": {
   "display_name": "Python 3",
   "language": "python",
   "name": "python3"
  },
  "language_info": {
   "codemirror_mode": {
    "name": "ipython",
    "version": 3
   },
   "file_extension": ".py",
   "mimetype": "text/x-python",
   "name": "python",
   "nbconvert_exporter": "python",
   "pygments_lexer": "ipython3",
   "version": "3.6.3"
  }
 },
 "nbformat": 4,
 "nbformat_minor": 2
}
